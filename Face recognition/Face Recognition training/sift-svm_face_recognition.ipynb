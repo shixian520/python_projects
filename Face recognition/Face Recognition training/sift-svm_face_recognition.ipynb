{
 "cells": [
  {
   "cell_type": "markdown",
   "metadata": {},
   "source": [
    "Importing packages for face recognition"
   ]
  },
  {
   "cell_type": "code",
   "execution_count": 2,
   "metadata": {
    "id": "jP4R85AawMxy"
   },
   "outputs": [],
   "source": [
    "import os,sys\n",
    "from time import time\n",
    "import logging\n",
    "import matplotlib.pyplot as plt\n",
    "import cv2\n",
    "import numpy as np\n",
    "\n",
    "from sklearn.model_selection import train_test_split\n",
    "from sklearn.model_selection import GridSearchCV\n",
    "from sklearn.datasets import fetch_lfw_people\n",
    "from sklearn.metrics import classification_report\n",
    "from sklearn.metrics import confusion_matrix\n",
    "from sklearn.decomposition import PCA\n",
    "from sklearn.svm import SVC\n",
    "from sklearn.cluster import KMeans\n",
    "from sklearn.model_selection import train_test_split\n"
   ]
  },
  {
   "cell_type": "markdown",
   "metadata": {},
   "source": [
    "Downloading data"
   ]
  },
  {
   "cell_type": "code",
   "execution_count": 3,
   "metadata": {
    "colab": {
     "base_uri": "https://localhost:8080/",
     "height": 252
    },
    "id": "990EmCXTwMx0",
    "outputId": "6fd24655-05eb-435b-eaeb-a379b7963d51"
   },
   "outputs": [
    {
     "name": "stdout",
     "output_type": "stream",
     "text": [
      "n_samples: 1288\n",
      "n_features: 128\n",
      "n_classes: 7\n"
     ]
    }
   ],
   "source": [
    "# #############################################################################\n",
    "# Download the data, if not already on disk and load it as numpy arrays\n",
    "\n",
    "lfw_people = fetch_lfw_people(data_home = 'D:\\\\dataset', min_faces_per_person=70, color = True)\n",
    "\n",
    "n_samples, h, w, _ = lfw_people.images.shape\n",
    "\n",
    "sift = cv2.xfeatures2d.SIFT_create()\n",
    "\n"
   ]
  },
  {
   "cell_type": "markdown",
   "metadata": {},
   "source": [
    "Extracting sift features and preparing train/test dataset"
   ]
  },
  {
   "cell_type": "code",
   "execution_count": null,
   "metadata": {},
   "outputs": [],
   "source": [
    "#extracting SIFT features from images\n",
    "X = []\n",
    "for i in range(n_samples):\n",
    "    \n",
    "    face_image = lfw_people.images[i].astype(np.uint8)\n",
    "    # face_image = cv2.resize(face_image, (224, 224)).astype(np.uint8)\n",
    "    \n",
    "    kp1, des1 = sift.detectAndCompute(face_image,None)\n",
    "    # print des1.shape\n",
    "    kmeans = KMeans(n_clusters=1, random_state=0).fit(des1)\n",
    "    X.append(kmeans.cluster_centers_)\n",
    "    # X.append(face_image)\n",
    "\n",
    "X = np.reshape(X,(n_samples,128))\n",
    "\n",
    "# X = lfw_people.data\n",
    "n_features = X.shape[1]\n",
    "\n",
    "# the label to predict is the id of the person\n",
    "y = lfw_people.target\n",
    "target_names = lfw_people.target_names\n",
    "n_classes = target_names.shape[0]\n",
    "\n",
    "print(\"n_samples: %d\" % n_samples)\n",
    "print(\"n_features: %d\" % n_features)\n",
    "print(\"n_classes: %d\" % n_classes)"
   ]
  },
  {
   "cell_type": "markdown",
   "metadata": {},
   "source": [
    "Train/Test and save the model"
   ]
  },
  {
   "cell_type": "code",
   "execution_count": 4,
   "metadata": {
    "id": "LRuBBLS7wMx1",
    "outputId": "e9964751-d237-4fd8-fbb9-2e61cd41fb90"
   },
   "outputs": [
    {
     "name": "stdout",
     "output_type": "stream",
     "text": [
      "Fitting the classifier to the training set\n"
     ]
    },
    {
     "name": "stderr",
     "output_type": "stream",
     "text": [
      "C:\\Users\\Admin\\Anaconda3\\lib\\site-packages\\sklearn\\model_selection\\_split.py:1978: FutureWarning: The default value of cv will change from 3 to 5 in version 0.22. Specify it explicitly to silence this warning.\n",
      "  warnings.warn(CV_WARNING, FutureWarning)\n"
     ]
    },
    {
     "name": "stdout",
     "output_type": "stream",
     "text": [
      "done in 13.711s\n",
      "Best estimator found by grid search:\n",
      "SVC(C=1000.0, cache_size=200, class_weight='balanced', coef0=0.0,\n",
      "    decision_function_shape='ovr', degree=3, gamma=0.0001, kernel='rbf',\n",
      "    max_iter=-1, probability=False, random_state=None, shrinking=True,\n",
      "    tol=0.001, verbose=False)\n",
      "Predicting people's names on the test set\n",
      "done in 0.031s\n",
      "                   precision    recall  f1-score   support\n",
      "\n",
      "     Ariel Sharon       0.60      0.46      0.52        13\n",
      "     Colin Powell       0.69      0.78      0.73        60\n",
      "  Donald Rumsfeld       0.44      0.30      0.36        27\n",
      "    George W Bush       0.77      0.82      0.79       146\n",
      "Gerhard Schroeder       0.43      0.48      0.45        25\n",
      "      Hugo Chavez       0.45      0.33      0.38        15\n",
      "       Tony Blair       0.45      0.42      0.43        36\n",
      "\n",
      "         accuracy                           0.66       322\n",
      "        macro avg       0.55      0.51      0.53       322\n",
      "     weighted avg       0.65      0.66      0.65       322\n",
      "\n",
      "[[  6   2   1   2   0   0   2]\n",
      " [  2  47   1   4   3   0   3]\n",
      " [  1   3   8  10   1   0   4]\n",
      " [  1   4   5 119   7   2   8]\n",
      " [  0   3   1   6  12   3   0]\n",
      " [  0   5   0   3   1   5   1]\n",
      " [  0   4   2  10   4   1  15]]\n",
      "Score: 0.6583850931677019\n"
     ]
    }
   ],
   "source": [
    "\n",
    "# #############################################################################\n",
    "# Split into a training set and a test set using a stratified k fold\n",
    "\n",
    "# split into a training and testing set\n",
    "\n",
    "X_train, X_test, y_train, y_test = train_test_split(\n",
    "    X, y, test_size=0.25, random_state=42\n",
    ")\n",
    "\n",
    "\n",
    "# #############################################################################\n",
    "# Train a SVM classification model\n",
    "\n",
    "print(\"Fitting the classifier to the training set\")\n",
    "t0 = time()\n",
    "param_grid = {\n",
    "    \"C\": [1e3, 5e3, 1e4, 5e4, 1e5],\n",
    "    \"gamma\": [0.0001, 0.0005, 0.001, 0.005, 0.01, 0.1],\n",
    "}\n",
    "clf = GridSearchCV(SVC(kernel=\"rbf\", class_weight=\"balanced\"), param_grid)\n",
    "clf = clf.fit(X_train, y_train)\n",
    "print(\"done in %0.3fs\" % (time() - t0))\n",
    "print(\"Best estimator found by grid search:\")\n",
    "print(clf.best_estimator_)\n",
    "\n",
    "\n",
    "# #############################################################################\n",
    "# Quantitative evaluation of the model quality on the test set\n",
    "\n",
    "print(\"Predicting people's names on the test set\")\n",
    "t0 = time()\n",
    "y_pred = clf.predict(X_test)\n",
    "print(\"done in %0.3fs\" % (time() - t0))\n",
    "\n",
    "print(classification_report(y_test, y_pred, target_names=target_names))\n",
    "print(confusion_matrix(y_test, y_pred, labels=range(n_classes)))\n",
    "\n",
    "score = clf.score(X_test, y_test)\n",
    "print('Score:', score)\n",
    "\n",
    "\n",
    "import pickle\n",
    "Pkl_Filename = \"sift-svm-face-{0:.4f}.pkl\".format(score)\n",
    "\n",
    "with open(Pkl_Filename, 'wb') as file:  \n",
    "    pickle.dump(clf, file)\n"
   ]
  }
 ],
 "metadata": {
  "colab": {
   "collapsed_sections": [],
   "name": "clean.ipynb",
   "provenance": []
  },
  "kernelspec": {
   "display_name": "Python 3",
   "language": "python",
   "name": "python3"
  },
  "language_info": {
   "codemirror_mode": {
    "name": "ipython",
    "version": 3
   },
   "file_extension": ".py",
   "mimetype": "text/x-python",
   "name": "python",
   "nbconvert_exporter": "python",
   "pygments_lexer": "ipython3",
   "version": "3.7.4"
  }
 },
 "nbformat": 4,
 "nbformat_minor": 1
}
