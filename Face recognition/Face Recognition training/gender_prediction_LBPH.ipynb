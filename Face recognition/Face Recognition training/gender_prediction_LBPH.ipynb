{
 "cells": [
  {
   "cell_type": "markdown",
   "metadata": {},
   "source": [
    "Importing packages for face recognition"
   ]
  },
  {
   "cell_type": "code",
   "execution_count": 1,
   "metadata": {
    "id": "jP4R85AawMxy"
   },
   "outputs": [],
   "source": [
    "import os,sys\n",
    "from time import time\n",
    "import logging\n",
    "\n",
    "from sklearn.model_selection import train_test_split\n",
    "from sklearn.datasets import fetch_lfw_people\n",
    "from sklearn.model_selection import train_test_split\n",
    "\n",
    "import os\n",
    "import cv2\n",
    "import numpy as np \n"
   ]
  },
  {
   "cell_type": "markdown",
   "metadata": {},
   "source": [
    "Making gender list for male and female"
   ]
  },
  {
   "cell_type": "code",
   "execution_count": 2,
   "metadata": {},
   "outputs": [],
   "source": [
    "male_list = []\n",
    "male_txt = open('./gender/male.txt', 'r')\n",
    "lines = male_txt.readlines()\n",
    "for line in lines:\n",
    "    line = line.replace('\\n', '')\n",
    "    male_list.append(line)\n",
    "male_txt.close()\n",
    "\n",
    "female_list = []\n",
    "female_txt = open('./gender/female.txt', 'r')\n",
    "lines = female_txt.readlines()\n",
    "for line in lines:\n",
    "    line = line.replace('\\n', '')\n",
    "    female_list.append(line)\n",
    "female_txt.close()"
   ]
  },
  {
   "cell_type": "markdown",
   "metadata": {},
   "source": [
    "Download data and generate train dataset"
   ]
  },
  {
   "cell_type": "code",
   "execution_count": 3,
   "metadata": {},
   "outputs": [
    {
     "name": "stdout",
     "output_type": "stream",
     "text": [
      "n_samples: 5985\n",
      "n_classes: 2\n"
     ]
    }
   ],
   "source": [
    "# #############################################################################\n",
    "# Download the data, if not already on disk and load it as numpy arrays\n",
    "\n",
    "lfw_people = fetch_lfw_people(data_home = 'D:\\\\dataset', min_faces_per_person=5)\n",
    "\n",
    "n_samples, h, w = lfw_people.images.shape\n",
    "\n",
    "\n",
    "X = []\n",
    "labels = []\n",
    "for i in range(n_samples):\n",
    "\n",
    "    face_image = lfw_people.images[i]\n",
    "    name = lfw_people.target_names[lfw_people.target[i]]\n",
    "\n",
    "    name = name.replace('-', ' ')\n",
    "    name = name.replace('_', ' ')\n",
    "\n",
    "    if name in male_list:\n",
    "        id = 0\n",
    "    elif name in female_list:\n",
    "        id = 1\n",
    "    X.append(face_image)\n",
    "    labels.append(id)\n",
    "\n",
    "labels = np.reshape(labels,(n_samples,))\n",
    "\n",
    "y = lfw_people.target\n",
    "target_names = lfw_people.target_names\n",
    "\n",
    "print(\"n_samples: %d\" % n_samples)\n",
    "print(\"n_classes: %d\" % 2)\n"
   ]
  },
  {
   "cell_type": "markdown",
   "metadata": {},
   "source": [
    "Train"
   ]
  },
  {
   "cell_type": "code",
   "execution_count": 4,
   "metadata": {},
   "outputs": [],
   "source": [
    "# #############################################################################\n",
    "# Split into a training set and a test set using a stratified k fold\n",
    "\n",
    "# split into a training and testing set\n",
    "X_train, X_test, y_train, y_test = train_test_split(\n",
    "    X, labels, test_size=0.25, random_state=42\n",
    ")\n",
    "\n",
    "#This will create a file named trainingData.yml in the model folder, which is trained on the images from dataset folder.\n",
    "\n",
    "recognizer = cv2.face.LBPHFaceRecognizer_create()\n",
    "\n",
    "if not os.path.exists('./model'):\n",
    "    os.makedirs('./model')\n",
    "\n",
    "recognizer.train(X_train,y_train)\n",
    "\n",
    "\n",
    "\n"
   ]
  },
  {
   "cell_type": "markdown",
   "metadata": {},
   "source": [
    "Test accuracy of model and save it"
   ]
  },
  {
   "cell_type": "code",
   "execution_count": 5,
   "metadata": {
    "colab": {
     "base_uri": "https://localhost:8080/",
     "height": 252
    },
    "id": "990EmCXTwMx0",
    "outputId": "6fd24655-05eb-435b-eaeb-a379b7963d51"
   },
   "outputs": [
    {
     "name": "stdout",
     "output_type": "stream",
     "text": [
      "The acc of model is about  0.9111556446225785\n"
     ]
    }
   ],
   "source": [
    "true = 0\n",
    "false = 0\n",
    "for image, id in zip(X_test, y_test):\n",
    "    predict_id,conf = recognizer.predict(image)\n",
    "    if conf < 50:\n",
    "        false += 1\n",
    "    else:\n",
    "        if id == predict_id:\n",
    "            true += 1\n",
    "        else:\n",
    "            false += 1\n",
    "\n",
    "acc = true / (true + false)\n",
    "# print(true)\n",
    "# print(false)\n",
    "print('The acc of model is about ', acc)\n",
    "\n",
    "recognizer.save('model/LBPH-gender-{0:.4f}.yml'.format(acc))"
   ]
  }
 ],
 "metadata": {
  "colab": {
   "collapsed_sections": [],
   "name": "clean.ipynb",
   "provenance": []
  },
  "kernelspec": {
   "display_name": "Python 3",
   "language": "python",
   "name": "python3"
  },
  "language_info": {
   "codemirror_mode": {
    "name": "ipython",
    "version": 3
   },
   "file_extension": ".py",
   "mimetype": "text/x-python",
   "name": "python",
   "nbconvert_exporter": "python",
   "pygments_lexer": "ipython3",
   "version": "3.7.4"
  }
 },
 "nbformat": 4,
 "nbformat_minor": 1
}
