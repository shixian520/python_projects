{
 "cells": [
  {
   "cell_type": "markdown",
   "metadata": {},
   "source": [
    "Importing packages for face recognition"
   ]
  },
  {
   "cell_type": "code",
   "execution_count": 1,
   "metadata": {
    "id": "jP4R85AawMxy"
   },
   "outputs": [],
   "source": [
    "import os,sys\n",
    "from time import time\n",
    "from sklearn.model_selection import train_test_split\n",
    "from sklearn.datasets import fetch_lfw_people\n",
    "import cv2\n",
    "import numpy as np "
   ]
  },
  {
   "cell_type": "markdown",
   "metadata": {},
   "source": [
    "Downloading data"
   ]
  },
  {
   "cell_type": "code",
   "execution_count": 2,
   "metadata": {
    "colab": {
     "base_uri": "https://localhost:8080/",
     "height": 252
    },
    "id": "990EmCXTwMx0",
    "outputId": "6fd24655-05eb-435b-eaeb-a379b7963d51"
   },
   "outputs": [
    {
     "name": "stdout",
     "output_type": "stream",
     "text": [
      "['Ariel Sharon' 'Colin Powell' 'Donald Rumsfeld' 'George W Bush'\n",
      " 'Gerhard Schroeder' 'Hugo Chavez' 'Tony Blair']\n"
     ]
    }
   ],
   "source": [
    "# #############################################################################\n",
    "# Download the data, if not already on disk and load it as numpy arrays\n",
    "\n",
    "lfw_people = fetch_lfw_people(data_home = 'D:\\\\dataset', min_faces_per_person=70)\n",
    "\n",
    "print(lfw_people.target_names)\n",
    "\n",
    "n_samples, h, w = lfw_people.images.shape"
   ]
  },
  {
   "cell_type": "markdown",
   "metadata": {},
   "source": [
    "Extracting sift features and preparing train/test dataset"
   ]
  },
  {
   "cell_type": "code",
   "execution_count": 3,
   "metadata": {},
   "outputs": [
    {
     "name": "stdout",
     "output_type": "stream",
     "text": [
      "n_samples: 1288\n",
      "n_classes: 7\n"
     ]
    }
   ],
   "source": [
    "# Preparing dataset\n",
    "X = []\n",
    "for i in range(n_samples):\n",
    "    face_image = lfw_people.images[i].astype(np.uint8)\n",
    "    X.append(face_image)\n",
    "\n",
    "\n",
    "# the label to predict is the id of the person\n",
    "y = lfw_people.target\n",
    "target_names = lfw_people.target_names\n",
    "n_classes = target_names.shape[0]\n",
    "\n",
    "print(\"n_samples: %d\" % n_samples)\n",
    "print(\"n_classes: %d\" % n_classes)"
   ]
  },
  {
   "cell_type": "markdown",
   "metadata": {},
   "source": [
    "Training"
   ]
  },
  {
   "cell_type": "code",
   "execution_count": 4,
   "metadata": {
    "id": "LRuBBLS7wMx1",
    "outputId": "e9964751-d237-4fd8-fbb9-2e61cd41fb90"
   },
   "outputs": [],
   "source": [
    "\n",
    "# #############################################################################\n",
    "# Split into a training set and a test set using a stratified k fold\n",
    "\n",
    "# split into a training and testing set\n",
    "X_train, X_test, y_train, y_test = train_test_split(\n",
    "    X, y, test_size=0.25, random_state=42\n",
    ")\n",
    "\n",
    "recognizer = cv2.face.LBPHFaceRecognizer_create()\n",
    "recognizer.train(X_train,y_train)"
   ]
  },
  {
   "cell_type": "markdown",
   "metadata": {},
   "source": [
    "Test and get accuracy"
   ]
  },
  {
   "cell_type": "code",
   "execution_count": 5,
   "metadata": {},
   "outputs": [
    {
     "name": "stdout",
     "output_type": "stream",
     "text": [
      "The acc of model is about  0.8819875776397516\n"
     ]
    }
   ],
   "source": [
    "# get the accuracy of model\n",
    "\n",
    "true = 0\n",
    "false = 0\n",
    "for image, id in zip(X_test, y_test):\n",
    "    predict_id,conf = recognizer.predict(image)\n",
    "    if conf < 50:\n",
    "        false += 1\n",
    "    else:\n",
    "        if id == predict_id:\n",
    "            true += 1\n",
    "        else:\n",
    "            false += 1\n",
    "\n",
    "acc = true / (true + false)\n",
    "print('The acc of model is about ', acc)\n",
    "\n",
    "# save model\n",
    "if not os.path.exists('./model'):\n",
    "    os.makedirs('./model')\n",
    "recognizer.save('model/LBPH-face-{0:.4f}.yml'.format(acc))"
   ]
  }
 ],
 "metadata": {
  "colab": {
   "collapsed_sections": [],
   "name": "clean.ipynb",
   "provenance": []
  },
  "kernelspec": {
   "display_name": "Python 3",
   "language": "python",
   "name": "python3"
  },
  "language_info": {
   "codemirror_mode": {
    "name": "ipython",
    "version": 3
   },
   "file_extension": ".py",
   "mimetype": "text/x-python",
   "name": "python",
   "nbconvert_exporter": "python",
   "pygments_lexer": "ipython3",
   "version": "3.7.4"
  }
 },
 "nbformat": 4,
 "nbformat_minor": 1
}
